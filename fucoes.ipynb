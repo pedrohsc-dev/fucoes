{
 "cells": [
  {
   "cell_type": "markdown",
   "metadata": {},
   "source": [
    "# Funções \n",
    "\n",
    "Em Python, é possível, por meio da palavra-chave **def**, criarmos uma função e nomeá-la com qualquer palavra que desejarmos, respeitando, é claro, a regra de não utilizar palavras-chave, nomes de funções já existentes ou palavras reservadas.\n",
    "\n",
    "Desta forma, podemos atribuir a esta função várias tarefas distintas, de modo que sempre que desejarmos repetir as mesmas tarefas, não precisaremos executá-las todas uma por uma repetidamente; apenas será preciso chamar a função destinada àquele conjunto de tarefas específicas. "
   ]
  },
  {
   "cell_type": "markdown",
   "metadata": {},
   "source": [
    "## Exemplo de função já existente no Python\n",
    "Um exemplo de função já existente no python é a função **print( )**. Que é uma função que seu propósito é de imprimir os valores que são colocados como parâmetro dentro dos parênteses. "
   ]
  },
  {
   "cell_type": "code",
   "execution_count": 1,
   "metadata": {},
   "outputs": [
    {
     "name": "stdout",
     "output_type": "stream",
     "text": [
      "Olá, mundo!\n",
      "2345678\n",
      "1.8\n",
      "True\n",
      "Variável\n"
     ]
    }
   ],
   "source": [
    "# Exemplo da unção print imprimindo vários valores distintos.\n",
    "# Irei imprimir strings, inteiros, floats, booleanos e variáveis, nesta mesma ordem.\n",
    "\n",
    "variavel = \"Variável\"\n",
    "\n",
    "print(\"Olá, mundo!\")\n",
    "print(2345678)\n",
    "print(1.8)\n",
    "print(True)\n",
    "print(variavel)"
   ]
  },
  {
   "cell_type": "markdown",
   "metadata": {},
   "source": [
    "## Criando uma função com a palavra-chave def\n",
    "Criarei uma função para que imprima na tela a definião do que é o Hip Hop, na visão do cantor e compositor [Rael](https://www.instagram.com/raeloficial/?hl=pt-brhttps://www.instagram.com/raeloficial/?hl=pt-br) descrito em uma de suas musicas.\n"
   ]
  },
  {
   "cell_type": "code",
   "execution_count": 3,
   "metadata": {},
   "outputs": [
    {
     "name": "stdout",
     "output_type": "stream",
     "text": [
      "Ele é papel, é caneta, é lição, som e letra\n",
      "Ele é chão, é planeta, é visão de luneta\n",
      "É loucão, tarja preta, é canhão, é beretta\n",
      "É os neguinho de bombeta, ele é muita treta\n",
      "É sabota, é bambaataa, é swing da lata\n",
      "É resgate, é escada, é a voz das quebrada\n",
      "Ele é hey!, ele é how!, ele é free, ele é show\n",
      "Libertou, me mostrou quem eu sou\n"
     ]
    }
   ],
   "source": [
    "# Criando uma função\n",
    "\n",
    "def hiphop():\n",
    "    print(\"\"\"Ele é papel, é caneta, é lição, som e letra\n",
    "Ele é chão, é planeta, é visão de luneta\n",
    "É loucão, tarja preta, é canhão, é beretta\n",
    "É os neguinho de bombeta, ele é muita treta\n",
    "É sabota, é bambaataa, é swing da lata\n",
    "É resgate, é escada, é a voz das quebrada\n",
    "Ele é hey!, ele é how!, ele é free, ele é show\n",
    "Libertou, me mostrou quem eu sou\"\"\")\n",
    "    \n",
    "#Quando eu chamar a função hiphop() ela imprimira na tela a tarefa que eu atribui à ela.\n",
    "\n",
    "hiphop()"
   ]
  }
 ],
 "metadata": {
  "kernelspec": {
   "display_name": "Python 3",
   "language": "python",
   "name": "python3"
  },
  "language_info": {
   "codemirror_mode": {
    "name": "ipython",
    "version": 3
   },
   "file_extension": ".py",
   "mimetype": "text/x-python",
   "name": "python",
   "nbconvert_exporter": "python",
   "pygments_lexer": "ipython3",
   "version": "3.11.6"
  }
 },
 "nbformat": 4,
 "nbformat_minor": 2
}
